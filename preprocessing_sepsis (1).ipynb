{
 "cells": [
  {
   "cell_type": "code",
   "execution_count": 1,
   "id": "eb6ff7dd-2e08-4062-a9d2-61e84c02ad5d",
   "metadata": {},
   "outputs": [],
   "source": [
    "import pandas as pd\n",
    "import numpy as np\n",
    "from datetime import datetime as dt\n",
    "import warnings\n",
    "warnings.filterwarnings(\"ignore\")"
   ]
  },
  {
   "cell_type": "markdown",
   "id": "4f2e1452-f3ce-4d05-92f0-291739840cbe",
   "metadata": {},
   "source": [
    "## Reading the datasets"
   ]
  },
  {
   "cell_type": "code",
   "execution_count": 2,
   "id": "ca8ce2d4-a51d-444c-a8f6-96720d0da90b",
   "metadata": {},
   "outputs": [],
   "source": [
    "admissions = pd.read_csv(\"ADMISSIONS.csv\", usecols=['SUBJECT_ID', 'HADM_ID', \"ADMITTIME\"])"
   ]
  },
  {
   "cell_type": "code",
   "execution_count": 3,
   "id": "3559bc77-a464-4754-b165-1224c25ace7d",
   "metadata": {},
   "outputs": [],
   "source": [
    "chartevents = pd.read_csv(\"CHARTEVENTS.csv\", usecols=[\"SUBJECT_ID\", \"HADM_ID\", \"ITEMID\", \"CHARTTIME\", \"VALUENUM\", \"VALUEUOM\"])"
   ]
  },
  {
   "cell_type": "code",
   "execution_count": 4,
   "id": "125c5ad7-b004-4181-a7a7-7f7048c3bbfa",
   "metadata": {},
   "outputs": [],
   "source": [
    "icustays = pd.read_csv(\"ICUSTAYS.csv\", usecols=[\"SUBJECT_ID\", \"HADM_ID\", \"ICUSTAY_ID\", \"LOS\"])"
   ]
  },
  {
   "cell_type": "code",
   "execution_count": 5,
   "id": "d9183cca-a2a3-4432-8144-6da58cf89f04",
   "metadata": {},
   "outputs": [],
   "source": [
    "labevents = pd.read_csv(\"LABEVENTS.csv\", usecols=[\"SUBJECT_ID\", \"HADM_ID\", \"ITEMID\", \"CHARTTIME\", \"VALUENUM\", \"VALUEUOM\"])"
   ]
  },
  {
   "cell_type": "code",
   "execution_count": 6,
   "id": "992acd0f-d415-453c-a11e-6b6917ab6d57",
   "metadata": {},
   "outputs": [],
   "source": [
    "patients = pd.read_csv(\"PATIENTS.csv\", usecols=[\"SUBJECT_ID\", \"GENDER\", \"DOB\"])"
   ]
  },
  {
   "cell_type": "markdown",
   "id": "f4b65e07-9847-4cbe-8360-7be21ee6f1d8",
   "metadata": {},
   "source": [
    "## Preprocessing"
   ]
  },
  {
   "cell_type": "markdown",
   "id": "71cb4301-39be-4bdc-984e-e4efb0f4c312",
   "metadata": {},
   "source": [
    "### Admissions + Patiens"
   ]
  },
  {
   "cell_type": "code",
   "execution_count": 7,
   "id": "cc73695b-77b4-4983-ae07-c134d01e50cd",
   "metadata": {},
   "outputs": [],
   "source": [
    "admissions_patients = pd.merge(admissions, patients, on='SUBJECT_ID', how='inner')"
   ]
  },
  {
   "cell_type": "code",
   "execution_count": 8,
   "id": "d03679a8-2c07-490b-ab50-2c2da3b90008",
   "metadata": {},
   "outputs": [],
   "source": [
    "dummy_cols = pd.get_dummies(admissions_patients['GENDER'])\n",
    "admissions_patients = pd.concat([admissions_patients, dummy_cols], axis=1)\n",
    "admissions_patients = admissions_patients.drop('GENDER', axis=1)"
   ]
  },
  {
   "cell_type": "code",
   "execution_count": 9,
   "id": "3667da35-f464-4d8d-8542-d1c42687870c",
   "metadata": {},
   "outputs": [],
   "source": [
    "admissions_patients = admissions_patients.rename(columns={'F': 'FEMALE', 'M':'MALE'})"
   ]
  },
  {
   "cell_type": "code",
   "execution_count": 10,
   "id": "a022c235-197d-494b-8a31-8a2b798026e0",
   "metadata": {},
   "outputs": [],
   "source": [
    "admissions_patients[\"ADMITTIME\"] = pd.to_datetime(admissions_patients[\"ADMITTIME\"])\n",
    "admissions_patients[\"DOB\"] = pd.to_datetime(admissions_patients[\"DOB\"])"
   ]
  },
  {
   "cell_type": "code",
   "execution_count": 11,
   "id": "1d356d8d-cf77-43db-9866-9bc918a17712",
   "metadata": {},
   "outputs": [],
   "source": [
    "admissions_patients[\"AGE\"] = admissions_patients[\"ADMITTIME\"].dt.year-admissions_patients[\"DOB\"].dt.year"
   ]
  },
  {
   "cell_type": "code",
   "execution_count": 12,
   "id": "e8aa2cc5-b143-4a21-9b72-173108fa2d6e",
   "metadata": {},
   "outputs": [
    {
     "data": {
      "text/html": [
       "<div>\n",
       "<style scoped>\n",
       "    .dataframe tbody tr th:only-of-type {\n",
       "        vertical-align: middle;\n",
       "    }\n",
       "\n",
       "    .dataframe tbody tr th {\n",
       "        vertical-align: top;\n",
       "    }\n",
       "\n",
       "    .dataframe thead th {\n",
       "        text-align: right;\n",
       "    }\n",
       "</style>\n",
       "<table border=\"1\" class=\"dataframe\">\n",
       "  <thead>\n",
       "    <tr style=\"text-align: right;\">\n",
       "      <th></th>\n",
       "      <th>SUBJECT_ID</th>\n",
       "      <th>HADM_ID</th>\n",
       "      <th>ADMITTIME</th>\n",
       "      <th>DOB</th>\n",
       "      <th>FEMALE</th>\n",
       "      <th>MALE</th>\n",
       "      <th>AGE</th>\n",
       "    </tr>\n",
       "  </thead>\n",
       "  <tbody>\n",
       "    <tr>\n",
       "      <th>0</th>\n",
       "      <td>22</td>\n",
       "      <td>165315</td>\n",
       "      <td>2196-04-09 12:26:00</td>\n",
       "      <td>2131-05-07</td>\n",
       "      <td>1</td>\n",
       "      <td>0</td>\n",
       "      <td>65</td>\n",
       "    </tr>\n",
       "    <tr>\n",
       "      <th>1</th>\n",
       "      <td>23</td>\n",
       "      <td>152223</td>\n",
       "      <td>2153-09-03 07:15:00</td>\n",
       "      <td>2082-07-17</td>\n",
       "      <td>0</td>\n",
       "      <td>1</td>\n",
       "      <td>71</td>\n",
       "    </tr>\n",
       "    <tr>\n",
       "      <th>2</th>\n",
       "      <td>23</td>\n",
       "      <td>124321</td>\n",
       "      <td>2157-10-18 19:34:00</td>\n",
       "      <td>2082-07-17</td>\n",
       "      <td>0</td>\n",
       "      <td>1</td>\n",
       "      <td>75</td>\n",
       "    </tr>\n",
       "    <tr>\n",
       "      <th>3</th>\n",
       "      <td>24</td>\n",
       "      <td>161859</td>\n",
       "      <td>2139-06-06 16:14:00</td>\n",
       "      <td>2100-05-31</td>\n",
       "      <td>0</td>\n",
       "      <td>1</td>\n",
       "      <td>39</td>\n",
       "    </tr>\n",
       "    <tr>\n",
       "      <th>4</th>\n",
       "      <td>25</td>\n",
       "      <td>129635</td>\n",
       "      <td>2160-11-02 02:06:00</td>\n",
       "      <td>2101-11-21</td>\n",
       "      <td>0</td>\n",
       "      <td>1</td>\n",
       "      <td>59</td>\n",
       "    </tr>\n",
       "    <tr>\n",
       "      <th>...</th>\n",
       "      <td>...</td>\n",
       "      <td>...</td>\n",
       "      <td>...</td>\n",
       "      <td>...</td>\n",
       "      <td>...</td>\n",
       "      <td>...</td>\n",
       "      <td>...</td>\n",
       "    </tr>\n",
       "    <tr>\n",
       "      <th>58971</th>\n",
       "      <td>98794</td>\n",
       "      <td>190603</td>\n",
       "      <td>2127-11-07 11:00:00</td>\n",
       "      <td>2049-07-29</td>\n",
       "      <td>0</td>\n",
       "      <td>1</td>\n",
       "      <td>78</td>\n",
       "    </tr>\n",
       "    <tr>\n",
       "      <th>58972</th>\n",
       "      <td>98797</td>\n",
       "      <td>105447</td>\n",
       "      <td>2132-12-24 20:06:00</td>\n",
       "      <td>2044-12-27</td>\n",
       "      <td>0</td>\n",
       "      <td>1</td>\n",
       "      <td>88</td>\n",
       "    </tr>\n",
       "    <tr>\n",
       "      <th>58973</th>\n",
       "      <td>98800</td>\n",
       "      <td>191113</td>\n",
       "      <td>2131-03-30 21:13:00</td>\n",
       "      <td>2111-11-05</td>\n",
       "      <td>1</td>\n",
       "      <td>0</td>\n",
       "      <td>20</td>\n",
       "    </tr>\n",
       "    <tr>\n",
       "      <th>58974</th>\n",
       "      <td>98802</td>\n",
       "      <td>101071</td>\n",
       "      <td>2151-03-05 20:00:00</td>\n",
       "      <td>2067-09-21</td>\n",
       "      <td>1</td>\n",
       "      <td>0</td>\n",
       "      <td>84</td>\n",
       "    </tr>\n",
       "    <tr>\n",
       "      <th>58975</th>\n",
       "      <td>98805</td>\n",
       "      <td>122631</td>\n",
       "      <td>2200-09-12 07:15:00</td>\n",
       "      <td>2158-03-02</td>\n",
       "      <td>0</td>\n",
       "      <td>1</td>\n",
       "      <td>42</td>\n",
       "    </tr>\n",
       "  </tbody>\n",
       "</table>\n",
       "<p>58976 rows × 7 columns</p>\n",
       "</div>"
      ],
      "text/plain": [
       "       SUBJECT_ID  HADM_ID           ADMITTIME        DOB  FEMALE  MALE  AGE\n",
       "0              22   165315 2196-04-09 12:26:00 2131-05-07       1     0   65\n",
       "1              23   152223 2153-09-03 07:15:00 2082-07-17       0     1   71\n",
       "2              23   124321 2157-10-18 19:34:00 2082-07-17       0     1   75\n",
       "3              24   161859 2139-06-06 16:14:00 2100-05-31       0     1   39\n",
       "4              25   129635 2160-11-02 02:06:00 2101-11-21       0     1   59\n",
       "...           ...      ...                 ...        ...     ...   ...  ...\n",
       "58971       98794   190603 2127-11-07 11:00:00 2049-07-29       0     1   78\n",
       "58972       98797   105447 2132-12-24 20:06:00 2044-12-27       0     1   88\n",
       "58973       98800   191113 2131-03-30 21:13:00 2111-11-05       1     0   20\n",
       "58974       98802   101071 2151-03-05 20:00:00 2067-09-21       1     0   84\n",
       "58975       98805   122631 2200-09-12 07:15:00 2158-03-02       0     1   42\n",
       "\n",
       "[58976 rows x 7 columns]"
      ]
     },
     "execution_count": 12,
     "metadata": {},
     "output_type": "execute_result"
    }
   ],
   "source": [
    "admissions_patients"
   ]
  },
  {
   "cell_type": "code",
   "execution_count": 13,
   "id": "0ec59647-cb72-4e70-8c93-432d3110920d",
   "metadata": {},
   "outputs": [],
   "source": [
    "admissions_patients = admissions_patients[admissions_patients['AGE'] >= 18]"
   ]
  },
  {
   "cell_type": "code",
   "execution_count": 14,
   "id": "8473ae8f-575e-4d45-a713-e1519d1f5803",
   "metadata": {},
   "outputs": [],
   "source": [
    "np.random.seed(123)\n",
    "\n",
    "distinct_subjects = admissions_patients['SUBJECT_ID'].unique()\n",
    "half_count = len(distinct_subjects) // 2\n",
    "random_subjects = np.random.choice(distinct_subjects, size=half_count, replace=False)\n",
    "admissions_patients = admissions_patients[~admissions_patients['SUBJECT_ID'].isin(random_subjects)]"
   ]
  },
  {
   "cell_type": "code",
   "execution_count": 15,
   "id": "91f2b217-b7a2-4cbe-bbc4-201142718a4f",
   "metadata": {},
   "outputs": [
    {
     "data": {
      "text/plain": [
       "19289"
      ]
     },
     "execution_count": 15,
     "metadata": {},
     "output_type": "execute_result"
    }
   ],
   "source": [
    "admissions_patients.SUBJECT_ID.nunique()"
   ]
  },
  {
   "cell_type": "markdown",
   "id": "6d23770f-f6a5-4e51-a9fa-f76ee234151e",
   "metadata": {},
   "source": [
    "### Chartevents"
   ]
  },
  {
   "cell_type": "code",
   "execution_count": 16,
   "id": "3c3a1e18-ced4-4e2a-9a76-c7f606f51a41",
   "metadata": {},
   "outputs": [],
   "source": [
    "dict_of_items_ce = {\"SBP\" : [220050], \n",
    "                    \"DBP\" : [220051, 220180, 225310, 8368, 8441, 8555],\n",
    "                    \"BOS\" : [220227, 220277, 834, 646],\n",
    "                    \"Temperature_Ce\" : [223762, 676],\n",
    "                    \"Temperature_Fe\":[223761,678],\n",
    "                    \"HR\" : [220045, 211],\n",
    "                    \"RR\" : [220210, 224422, 224689, 224690, 614, 615, 618, 651],\n",
    "                    \"CO2\" : [220235, 778],\n",
    "                    \"WBC\" : [51301],\n",
    "                    \"PH\" : [50820]\n",
    "                    }"
   ]
  },
  {
   "cell_type": "code",
   "execution_count": 17,
   "id": "e980bb45-2c0f-483c-b6f3-a7005b5d0a17",
   "metadata": {},
   "outputs": [],
   "source": [
    "chart_lab = pd.concat([chartevents,labevents],axis=0).reset_index(drop=True)"
   ]
  },
  {
   "cell_type": "code",
   "execution_count": 18,
   "id": "e02cb757-8101-48a6-84b5-487b07c30dc9",
   "metadata": {},
   "outputs": [],
   "source": [
    "reversed_dict = {item: key for key, value in dict_of_items_ce.items() for item in value}\n",
    "chart_lab[\"ITEMID\"] = chart_lab[\"ITEMID\"].map(reversed_dict)\n",
    "chart_lab_temp = chart_lab[chart_lab[\"ITEMID\"].isin(dict_of_items_ce.keys())].pivot(columns=\"ITEMID\", values=\"VALUENUM\")"
   ]
  },
  {
   "cell_type": "code",
   "execution_count": 19,
   "id": "8857e12e-3fd7-4fc6-bb25-9ce319aab5fe",
   "metadata": {},
   "outputs": [],
   "source": [
    "#reversed_dict = {item: key for key, value in dict_of_items_ce.items() for item in value}\n",
    "#chart_lab = chart_lab.replace(to_replace=reversed_dict)\n",
    "#chart_lab_temp = chart_lab[chart_lab[\"ITEMID\"].isin(dict_of_items_ce.keys())].pivot(columns=\"ITEMID\",values=\"VALUENUM\")"
   ]
  },
  {
   "cell_type": "code",
   "execution_count": 20,
   "id": "e9973b2e-76a6-46f6-98d5-56f910f8e187",
   "metadata": {},
   "outputs": [],
   "source": [
    "bitisik=pd.merge(chart_lab,chart_lab_temp,left_index=True,right_index=True,how=\"inner\")\n",
    "bitisik=pd.merge(bitisik,admissions_patients,on=[\"HADM_ID\",\"SUBJECT_ID\"])"
   ]
  },
  {
   "cell_type": "code",
   "execution_count": 21,
   "id": "6ac17b8d-07f5-4a6f-8844-afb2e424c2c7",
   "metadata": {},
   "outputs": [],
   "source": [
    "bitisik = bitisik.groupby([\"SUBJECT_ID\", \"HADM_ID\", \"CHARTTIME\"], as_index=False).first()"
   ]
  },
  {
   "cell_type": "code",
   "execution_count": 22,
   "id": "8d0fc42e-ce36-4e8c-b63e-b92062645685",
   "metadata": {},
   "outputs": [],
   "source": [
    "bitisik[\"Temperature_Fe_Ce\"]=(bitisik[\"Temperature_Fe\"]-32)/1.8\n",
    "bitisik[\"Temperature_Ce\"]=bitisik[[\"Temperature_Ce\",\"Temperature_Fe_Ce\"]].sum(axis=1,min_count=1)\n",
    "bitisik.loc[bitisik.Temperature_Ce > 90, 'Temperature_Ce'] = np.nan\n",
    "bitisik.loc[bitisik.Temperature_Ce < 20, 'Temperature_Ce'] = np.nan\n",
    "bitisik=bitisik.drop([\"Temperature_Fe\",\"Temperature_Fe_Ce\"],axis=1)"
   ]
  },
  {
   "cell_type": "code",
   "execution_count": 23,
   "id": "90b55a61-7676-447c-bcef-dce9db492c1c",
   "metadata": {},
   "outputs": [],
   "source": [
    "icustays = icustays[icustays['LOS'] >= 0.5]"
   ]
  },
  {
   "cell_type": "code",
   "execution_count": 24,
   "id": "1868b105-27d9-43a5-b548-7e1bb03d0521",
   "metadata": {},
   "outputs": [],
   "source": [
    "bitisik=pd.merge(bitisik,icustays,on=[\"HADM_ID\",\"SUBJECT_ID\"])"
   ]
  },
  {
   "cell_type": "code",
   "execution_count": 25,
   "id": "20765f44-09e7-432c-8275-cf3c15804d56",
   "metadata": {},
   "outputs": [],
   "source": [
    "bitisik[\"CHARTTIME\"] = pd.to_datetime(bitisik[\"CHARTTIME\"])"
   ]
  },
  {
   "cell_type": "code",
   "execution_count": 26,
   "id": "c3e67744-4dbb-47f6-ac65-717dea4f281a",
   "metadata": {},
   "outputs": [],
   "source": [
    "bitisik[\"period\"]=np.ceil(((bitisik[\"CHARTTIME\"]-bitisik[\"ADMITTIME\"]).dt.total_seconds()/3600)/1)\n",
    "bitisik[\"period\"]=bitisik[\"period\"].replace({\"-0.0\":\"1\"}).astype(int)"
   ]
  },
  {
   "cell_type": "code",
   "execution_count": 27,
   "id": "cc6b7fae-be0e-4bdc-a825-bba09cf57219",
   "metadata": {},
   "outputs": [],
   "source": [
    "bitisik.drop([\"ITEMID\", \"VALUEUOM\"], axis=1, inplace=True)"
   ]
  },
  {
   "cell_type": "code",
   "execution_count": 28,
   "id": "a130ac41-61a4-48f4-bfae-6269b9c3861c",
   "metadata": {},
   "outputs": [],
   "source": [
    "bitisik=bitisik[bitisik.period>=0]"
   ]
  },
  {
   "cell_type": "code",
   "execution_count": 29,
   "id": "11a8260b-bf0c-4443-839a-ef81ab04f16b",
   "metadata": {},
   "outputs": [],
   "source": [
    "avg=bitisik.groupby([\"SUBJECT_ID\",\"HADM_ID\",\"ICUSTAY_ID\",\"period\"],as_index=False)\\\n",
    "        ['SBP', 'DBP', 'BOS', 'Temperature_Ce', 'HR', 'RR', 'CO2', 'WBC', 'PH',\"AGE\"].agg(['min', 'max'])\\\n",
    "            .groupby([\"SUBJECT_ID\",\"HADM_ID\",\"ICUSTAY_ID\"]).apply(lambda x: x.ffill().fillna(x.mean()))\\\n",
    "                .groupby([\"SUBJECT_ID\"]).apply(lambda x: x.ffill().fillna(x.mean()))\\\n",
    "                    .fillna(bitisik.mean()).drop(('AGE', 'max'),axis=1)"
   ]
  },
  {
   "cell_type": "code",
   "execution_count": 30,
   "id": "102093d2-2dcb-4550-8a06-beee60b1f314",
   "metadata": {},
   "outputs": [
    {
     "data": {
      "text/html": [
       "<div>\n",
       "<style scoped>\n",
       "    .dataframe tbody tr th:only-of-type {\n",
       "        vertical-align: middle;\n",
       "    }\n",
       "\n",
       "    .dataframe tbody tr th {\n",
       "        vertical-align: top;\n",
       "    }\n",
       "\n",
       "    .dataframe thead tr th {\n",
       "        text-align: left;\n",
       "    }\n",
       "\n",
       "    .dataframe thead tr:last-of-type th {\n",
       "        text-align: right;\n",
       "    }\n",
       "</style>\n",
       "<table border=\"1\" class=\"dataframe\">\n",
       "  <thead>\n",
       "    <tr>\n",
       "      <th></th>\n",
       "      <th></th>\n",
       "      <th></th>\n",
       "      <th></th>\n",
       "      <th colspan=\"2\" halign=\"left\">SBP</th>\n",
       "      <th colspan=\"2\" halign=\"left\">DBP</th>\n",
       "      <th colspan=\"2\" halign=\"left\">BOS</th>\n",
       "      <th colspan=\"2\" halign=\"left\">Temperature_Ce</th>\n",
       "      <th colspan=\"2\" halign=\"left\">HR</th>\n",
       "      <th colspan=\"2\" halign=\"left\">RR</th>\n",
       "      <th colspan=\"2\" halign=\"left\">CO2</th>\n",
       "      <th colspan=\"2\" halign=\"left\">WBC</th>\n",
       "      <th colspan=\"2\" halign=\"left\">PH</th>\n",
       "      <th>AGE</th>\n",
       "    </tr>\n",
       "    <tr>\n",
       "      <th></th>\n",
       "      <th></th>\n",
       "      <th></th>\n",
       "      <th></th>\n",
       "      <th>min</th>\n",
       "      <th>max</th>\n",
       "      <th>min</th>\n",
       "      <th>max</th>\n",
       "      <th>min</th>\n",
       "      <th>max</th>\n",
       "      <th>min</th>\n",
       "      <th>max</th>\n",
       "      <th>min</th>\n",
       "      <th>max</th>\n",
       "      <th>min</th>\n",
       "      <th>max</th>\n",
       "      <th>min</th>\n",
       "      <th>max</th>\n",
       "      <th>min</th>\n",
       "      <th>max</th>\n",
       "      <th>min</th>\n",
       "      <th>max</th>\n",
       "      <th>min</th>\n",
       "    </tr>\n",
       "    <tr>\n",
       "      <th>SUBJECT_ID</th>\n",
       "      <th>HADM_ID</th>\n",
       "      <th>ICUSTAY_ID</th>\n",
       "      <th>period</th>\n",
       "      <th></th>\n",
       "      <th></th>\n",
       "      <th></th>\n",
       "      <th></th>\n",
       "      <th></th>\n",
       "      <th></th>\n",
       "      <th></th>\n",
       "      <th></th>\n",
       "      <th></th>\n",
       "      <th></th>\n",
       "      <th></th>\n",
       "      <th></th>\n",
       "      <th></th>\n",
       "      <th></th>\n",
       "      <th></th>\n",
       "      <th></th>\n",
       "      <th></th>\n",
       "      <th></th>\n",
       "      <th></th>\n",
       "    </tr>\n",
       "  </thead>\n",
       "  <tbody>\n",
       "    <tr>\n",
       "      <th rowspan=\"5\" valign=\"top\">11</th>\n",
       "      <th rowspan=\"5\" valign=\"top\">194540.0</th>\n",
       "      <th rowspan=\"5\" valign=\"top\">229441</th>\n",
       "      <th>0</th>\n",
       "      <td>120.931223</td>\n",
       "      <td>120.931223</td>\n",
       "      <td>64.043538</td>\n",
       "      <td>64.043538</td>\n",
       "      <td>96.655172</td>\n",
       "      <td>96.655172</td>\n",
       "      <td>37.222222</td>\n",
       "      <td>37.222222</td>\n",
       "      <td>81.0</td>\n",
       "      <td>90.0</td>\n",
       "      <td>16.0</td>\n",
       "      <td>19.0</td>\n",
       "      <td>42.149575</td>\n",
       "      <td>42.149575</td>\n",
       "      <td>9.933333</td>\n",
       "      <td>9.933333</td>\n",
       "      <td>7.52</td>\n",
       "      <td>7.52</td>\n",
       "      <td>50</td>\n",
       "    </tr>\n",
       "    <tr>\n",
       "      <th>1</th>\n",
       "      <td>120.931223</td>\n",
       "      <td>120.931223</td>\n",
       "      <td>64.043538</td>\n",
       "      <td>64.043538</td>\n",
       "      <td>96.000000</td>\n",
       "      <td>96.000000</td>\n",
       "      <td>36.888890</td>\n",
       "      <td>36.888890</td>\n",
       "      <td>86.0</td>\n",
       "      <td>86.0</td>\n",
       "      <td>17.0</td>\n",
       "      <td>17.0</td>\n",
       "      <td>42.149575</td>\n",
       "      <td>42.149575</td>\n",
       "      <td>9.300000</td>\n",
       "      <td>9.300000</td>\n",
       "      <td>7.52</td>\n",
       "      <td>7.52</td>\n",
       "      <td>50</td>\n",
       "    </tr>\n",
       "    <tr>\n",
       "      <th>2</th>\n",
       "      <td>120.931223</td>\n",
       "      <td>120.931223</td>\n",
       "      <td>64.043538</td>\n",
       "      <td>64.043538</td>\n",
       "      <td>97.000000</td>\n",
       "      <td>97.000000</td>\n",
       "      <td>36.888890</td>\n",
       "      <td>36.888890</td>\n",
       "      <td>90.0</td>\n",
       "      <td>90.0</td>\n",
       "      <td>20.0</td>\n",
       "      <td>20.0</td>\n",
       "      <td>42.149575</td>\n",
       "      <td>42.149575</td>\n",
       "      <td>9.300000</td>\n",
       "      <td>9.300000</td>\n",
       "      <td>7.52</td>\n",
       "      <td>7.52</td>\n",
       "      <td>50</td>\n",
       "    </tr>\n",
       "    <tr>\n",
       "      <th>3</th>\n",
       "      <td>120.931223</td>\n",
       "      <td>120.931223</td>\n",
       "      <td>64.043538</td>\n",
       "      <td>64.043538</td>\n",
       "      <td>96.000000</td>\n",
       "      <td>96.000000</td>\n",
       "      <td>36.888890</td>\n",
       "      <td>36.888890</td>\n",
       "      <td>95.0</td>\n",
       "      <td>95.0</td>\n",
       "      <td>18.0</td>\n",
       "      <td>18.0</td>\n",
       "      <td>42.149575</td>\n",
       "      <td>42.149575</td>\n",
       "      <td>9.300000</td>\n",
       "      <td>9.300000</td>\n",
       "      <td>7.52</td>\n",
       "      <td>7.52</td>\n",
       "      <td>50</td>\n",
       "    </tr>\n",
       "    <tr>\n",
       "      <th>4</th>\n",
       "      <td>120.931223</td>\n",
       "      <td>120.931223</td>\n",
       "      <td>64.043538</td>\n",
       "      <td>64.043538</td>\n",
       "      <td>96.000000</td>\n",
       "      <td>96.000000</td>\n",
       "      <td>36.888890</td>\n",
       "      <td>36.888890</td>\n",
       "      <td>97.0</td>\n",
       "      <td>97.0</td>\n",
       "      <td>20.0</td>\n",
       "      <td>20.0</td>\n",
       "      <td>42.149575</td>\n",
       "      <td>42.149575</td>\n",
       "      <td>9.300000</td>\n",
       "      <td>9.300000</td>\n",
       "      <td>7.52</td>\n",
       "      <td>7.52</td>\n",
       "      <td>50</td>\n",
       "    </tr>\n",
       "    <tr>\n",
       "      <th>...</th>\n",
       "      <th>...</th>\n",
       "      <th>...</th>\n",
       "      <th>...</th>\n",
       "      <td>...</td>\n",
       "      <td>...</td>\n",
       "      <td>...</td>\n",
       "      <td>...</td>\n",
       "      <td>...</td>\n",
       "      <td>...</td>\n",
       "      <td>...</td>\n",
       "      <td>...</td>\n",
       "      <td>...</td>\n",
       "      <td>...</td>\n",
       "      <td>...</td>\n",
       "      <td>...</td>\n",
       "      <td>...</td>\n",
       "      <td>...</td>\n",
       "      <td>...</td>\n",
       "      <td>...</td>\n",
       "      <td>...</td>\n",
       "      <td>...</td>\n",
       "      <td>...</td>\n",
       "    </tr>\n",
       "    <tr>\n",
       "      <th rowspan=\"5\" valign=\"top\">99999</th>\n",
       "      <th rowspan=\"5\" valign=\"top\">113369.0</th>\n",
       "      <th rowspan=\"5\" valign=\"top\">246512</th>\n",
       "      <th>51</th>\n",
       "      <td>120.931223</td>\n",
       "      <td>120.931223</td>\n",
       "      <td>66.000000</td>\n",
       "      <td>66.000000</td>\n",
       "      <td>100.000000</td>\n",
       "      <td>100.000000</td>\n",
       "      <td>36.666667</td>\n",
       "      <td>36.666667</td>\n",
       "      <td>83.0</td>\n",
       "      <td>83.0</td>\n",
       "      <td>20.0</td>\n",
       "      <td>20.0</td>\n",
       "      <td>42.149575</td>\n",
       "      <td>42.149575</td>\n",
       "      <td>9.300000</td>\n",
       "      <td>9.300000</td>\n",
       "      <td>7.39</td>\n",
       "      <td>7.39</td>\n",
       "      <td>63</td>\n",
       "    </tr>\n",
       "    <tr>\n",
       "      <th>52</th>\n",
       "      <td>120.931223</td>\n",
       "      <td>120.931223</td>\n",
       "      <td>64.000000</td>\n",
       "      <td>64.000000</td>\n",
       "      <td>99.000000</td>\n",
       "      <td>99.000000</td>\n",
       "      <td>36.666667</td>\n",
       "      <td>36.666667</td>\n",
       "      <td>78.0</td>\n",
       "      <td>78.0</td>\n",
       "      <td>16.0</td>\n",
       "      <td>16.0</td>\n",
       "      <td>42.149575</td>\n",
       "      <td>42.149575</td>\n",
       "      <td>9.300000</td>\n",
       "      <td>9.300000</td>\n",
       "      <td>7.39</td>\n",
       "      <td>7.39</td>\n",
       "      <td>63</td>\n",
       "    </tr>\n",
       "    <tr>\n",
       "      <th>53</th>\n",
       "      <td>120.931223</td>\n",
       "      <td>120.931223</td>\n",
       "      <td>65.000000</td>\n",
       "      <td>65.000000</td>\n",
       "      <td>99.000000</td>\n",
       "      <td>99.000000</td>\n",
       "      <td>37.277778</td>\n",
       "      <td>37.277778</td>\n",
       "      <td>82.0</td>\n",
       "      <td>82.0</td>\n",
       "      <td>17.0</td>\n",
       "      <td>17.0</td>\n",
       "      <td>42.149575</td>\n",
       "      <td>42.149575</td>\n",
       "      <td>9.300000</td>\n",
       "      <td>9.300000</td>\n",
       "      <td>7.39</td>\n",
       "      <td>7.39</td>\n",
       "      <td>63</td>\n",
       "    </tr>\n",
       "    <tr>\n",
       "      <th>54</th>\n",
       "      <td>120.931223</td>\n",
       "      <td>120.931223</td>\n",
       "      <td>61.000000</td>\n",
       "      <td>61.000000</td>\n",
       "      <td>100.000000</td>\n",
       "      <td>100.000000</td>\n",
       "      <td>37.277778</td>\n",
       "      <td>37.277778</td>\n",
       "      <td>86.0</td>\n",
       "      <td>86.0</td>\n",
       "      <td>15.0</td>\n",
       "      <td>15.0</td>\n",
       "      <td>42.149575</td>\n",
       "      <td>42.149575</td>\n",
       "      <td>9.300000</td>\n",
       "      <td>9.300000</td>\n",
       "      <td>7.39</td>\n",
       "      <td>7.39</td>\n",
       "      <td>63</td>\n",
       "    </tr>\n",
       "    <tr>\n",
       "      <th>71</th>\n",
       "      <td>120.931223</td>\n",
       "      <td>120.931223</td>\n",
       "      <td>61.000000</td>\n",
       "      <td>61.000000</td>\n",
       "      <td>100.000000</td>\n",
       "      <td>100.000000</td>\n",
       "      <td>37.277778</td>\n",
       "      <td>37.277778</td>\n",
       "      <td>86.0</td>\n",
       "      <td>86.0</td>\n",
       "      <td>15.0</td>\n",
       "      <td>15.0</td>\n",
       "      <td>42.149575</td>\n",
       "      <td>42.149575</td>\n",
       "      <td>9.000000</td>\n",
       "      <td>9.000000</td>\n",
       "      <td>7.39</td>\n",
       "      <td>7.39</td>\n",
       "      <td>63</td>\n",
       "    </tr>\n",
       "  </tbody>\n",
       "</table>\n",
       "<p>1947441 rows × 19 columns</p>\n",
       "</div>"
      ],
      "text/plain": [
       "                                              SBP                    DBP  \\\n",
       "                                              min         max        min   \n",
       "SUBJECT_ID HADM_ID  ICUSTAY_ID period                                      \n",
       "11         194540.0 229441     0       120.931223  120.931223  64.043538   \n",
       "                               1       120.931223  120.931223  64.043538   \n",
       "                               2       120.931223  120.931223  64.043538   \n",
       "                               3       120.931223  120.931223  64.043538   \n",
       "                               4       120.931223  120.931223  64.043538   \n",
       "...                                           ...         ...        ...   \n",
       "99999      113369.0 246512     51      120.931223  120.931223  66.000000   \n",
       "                               52      120.931223  120.931223  64.000000   \n",
       "                               53      120.931223  120.931223  65.000000   \n",
       "                               54      120.931223  120.931223  61.000000   \n",
       "                               71      120.931223  120.931223  61.000000   \n",
       "\n",
       "                                                         BOS              \\\n",
       "                                             max         min         max   \n",
       "SUBJECT_ID HADM_ID  ICUSTAY_ID period                                      \n",
       "11         194540.0 229441     0       64.043538   96.655172   96.655172   \n",
       "                               1       64.043538   96.000000   96.000000   \n",
       "                               2       64.043538   97.000000   97.000000   \n",
       "                               3       64.043538   96.000000   96.000000   \n",
       "                               4       64.043538   96.000000   96.000000   \n",
       "...                                          ...         ...         ...   \n",
       "99999      113369.0 246512     51      66.000000  100.000000  100.000000   \n",
       "                               52      64.000000   99.000000   99.000000   \n",
       "                               53      65.000000   99.000000   99.000000   \n",
       "                               54      61.000000  100.000000  100.000000   \n",
       "                               71      61.000000  100.000000  100.000000   \n",
       "\n",
       "                                      Temperature_Ce               HR        \\\n",
       "                                                 min        max   min   max   \n",
       "SUBJECT_ID HADM_ID  ICUSTAY_ID period                                         \n",
       "11         194540.0 229441     0           37.222222  37.222222  81.0  90.0   \n",
       "                               1           36.888890  36.888890  86.0  86.0   \n",
       "                               2           36.888890  36.888890  90.0  90.0   \n",
       "                               3           36.888890  36.888890  95.0  95.0   \n",
       "                               4           36.888890  36.888890  97.0  97.0   \n",
       "...                                              ...        ...   ...   ...   \n",
       "99999      113369.0 246512     51          36.666667  36.666667  83.0  83.0   \n",
       "                               52          36.666667  36.666667  78.0  78.0   \n",
       "                               53          37.277778  37.277778  82.0  82.0   \n",
       "                               54          37.277778  37.277778  86.0  86.0   \n",
       "                               71          37.277778  37.277778  86.0  86.0   \n",
       "\n",
       "                                         RR              CO2             \\\n",
       "                                        min   max        min        max   \n",
       "SUBJECT_ID HADM_ID  ICUSTAY_ID period                                     \n",
       "11         194540.0 229441     0       16.0  19.0  42.149575  42.149575   \n",
       "                               1       17.0  17.0  42.149575  42.149575   \n",
       "                               2       20.0  20.0  42.149575  42.149575   \n",
       "                               3       18.0  18.0  42.149575  42.149575   \n",
       "                               4       20.0  20.0  42.149575  42.149575   \n",
       "...                                     ...   ...        ...        ...   \n",
       "99999      113369.0 246512     51      20.0  20.0  42.149575  42.149575   \n",
       "                               52      16.0  16.0  42.149575  42.149575   \n",
       "                               53      17.0  17.0  42.149575  42.149575   \n",
       "                               54      15.0  15.0  42.149575  42.149575   \n",
       "                               71      15.0  15.0  42.149575  42.149575   \n",
       "\n",
       "                                            WBC              PH       AGE  \n",
       "                                            min       max   min   max min  \n",
       "SUBJECT_ID HADM_ID  ICUSTAY_ID period                                      \n",
       "11         194540.0 229441     0       9.933333  9.933333  7.52  7.52  50  \n",
       "                               1       9.300000  9.300000  7.52  7.52  50  \n",
       "                               2       9.300000  9.300000  7.52  7.52  50  \n",
       "                               3       9.300000  9.300000  7.52  7.52  50  \n",
       "                               4       9.300000  9.300000  7.52  7.52  50  \n",
       "...                                         ...       ...   ...   ...  ..  \n",
       "99999      113369.0 246512     51      9.300000  9.300000  7.39  7.39  63  \n",
       "                               52      9.300000  9.300000  7.39  7.39  63  \n",
       "                               53      9.300000  9.300000  7.39  7.39  63  \n",
       "                               54      9.300000  9.300000  7.39  7.39  63  \n",
       "                               71      9.000000  9.000000  7.39  7.39  63  \n",
       "\n",
       "[1947441 rows x 19 columns]"
      ]
     },
     "execution_count": 30,
     "metadata": {},
     "output_type": "execute_result"
    }
   ],
   "source": [
    "avg"
   ]
  },
  {
   "cell_type": "code",
   "execution_count": 31,
   "id": "e0f1a832-4b53-44f8-baa0-feb57361f585",
   "metadata": {},
   "outputs": [],
   "source": [
    "yislem=avg.copy()"
   ]
  },
  {
   "cell_type": "code",
   "execution_count": 32,
   "id": "ecb8255c-e833-46f3-a58e-4602d0c983e2",
   "metadata": {},
   "outputs": [],
   "source": [
    "yislem[\"Temperature_cond\"]=np.where(yislem[(\"Temperature_Ce\",\"min\")]<36,1,np.where(yislem[(\"Temperature_Ce\",\"max\")]>38,1,0))"
   ]
  },
  {
   "cell_type": "code",
   "execution_count": 33,
   "id": "95e2aa43-0288-4168-9b85-c2cd7463f04c",
   "metadata": {},
   "outputs": [],
   "source": [
    "yislem[\"HR_cond\"]=np.where(yislem[(\"HR\",\"max\")]>90,1,0)"
   ]
  },
  {
   "cell_type": "code",
   "execution_count": 34,
   "id": "e114dddc-b93f-469d-8584-0ca5225e9710",
   "metadata": {},
   "outputs": [],
   "source": [
    "yislem[\"RR_cond\"]=np.where(yislem[(\"RR\",\"max\")]>20,1,0)"
   ]
  },
  {
   "cell_type": "code",
   "execution_count": 35,
   "id": "43a52d44-95c4-415c-8c99-34d8d7962b63",
   "metadata": {},
   "outputs": [],
   "source": [
    "yislem[\"WBC_cond\"]=np.where(yislem[(\"WBC\", \"max\")]>12,1,np.where(yislem[(\"WBC\",\"min\")]<4,1,0))"
   ]
  },
  {
   "cell_type": "code",
   "execution_count": 36,
   "id": "c0cd0901-7ca8-47fb-a372-c0862efee187",
   "metadata": {},
   "outputs": [],
   "source": [
    "yislem[\"sepsis_sum\"]=yislem[[\"Temperature_cond\",\"WBC_cond\",\"HR_cond\",\"RR_cond\"]].sum(axis=1)"
   ]
  },
  {
   "cell_type": "code",
   "execution_count": 37,
   "id": "a05636de-da13-496e-bdaa-02a61563cbf2",
   "metadata": {},
   "outputs": [],
   "source": [
    "yislem[\"Sepsis_label\"]=np.where(yislem[\"sepsis_sum\"]>1,1,0)"
   ]
  },
  {
   "cell_type": "code",
   "execution_count": 38,
   "id": "e0abd975-133d-4769-8b55-7395ee390cee",
   "metadata": {},
   "outputs": [],
   "source": [
    "sepsis_basladi_mi=np.where(yislem.groupby([\"SUBJECT_ID\",\"HADM_ID\",\"ICUSTAY_ID\"])[\"Sepsis_label\"].rolling(5).sum().shift(-4).ffill()>=5,1,0)"
   ]
  },
  {
   "cell_type": "code",
   "execution_count": 39,
   "id": "683c8288-9ffb-4b68-ab38-1a7e16cf9912",
   "metadata": {},
   "outputs": [],
   "source": [
    "yislem[\"sepsis_basladi_mi\"]=sepsis_basladi_mi"
   ]
  },
  {
   "cell_type": "code",
   "execution_count": 40,
   "id": "3645bee7-ab94-4357-9fdd-fa6dfc45be5c",
   "metadata": {},
   "outputs": [],
   "source": [
    "rolling_window = 5\n",
    "# Function to apply rolling rows as columns to specific columns\n",
    "def rolling_rows_as_columns(group):\n",
    "    columns_to_roll = avg.columns.to_list()  # Specify the columns to apply the rolling rows transformation\n",
    "    for i in range(1, rolling_window + 1):\n",
    "        for col in columns_to_roll:\n",
    "            group[f'{col}_Rolling_{i}'] = group[col].shift(i)\n",
    "    return group\n",
    "# Apply the function after grouping the data\n",
    "df_grouped = avg.groupby([\"SUBJECT_ID\",\"HADM_ID\",\"ICUSTAY_ID\"]).apply(rolling_rows_as_columns)"
   ]
  },
  {
   "cell_type": "code",
   "execution_count": 41,
   "id": "909c31cd-277e-4519-a69a-165975c29dae",
   "metadata": {},
   "outputs": [],
   "source": [
    "df_grouped.dropna(inplace=True)"
   ]
  },
  {
   "cell_type": "code",
   "execution_count": 63,
   "id": "9cfa6edd-c921-4fc1-b1bc-927627e89dc2",
   "metadata": {},
   "outputs": [],
   "source": [
    "ysutun=pd.concat([yislem.reset_index().groupby([\"SUBJECT_ID\",\"HADM_ID\",\"ICUSTAY_ID\"])[\"sepsis_basladi_mi\"].shift(-11),yislem.index.to_frame().reset_index(drop=True)],axis=1)"
   ]
  },
  {
   "cell_type": "code",
   "execution_count": 64,
   "id": "917d69c9-2e93-4fe7-a153-44cc948b66d7",
   "metadata": {},
   "outputs": [],
   "source": [
    "ysutun=ysutun.set_index([\"SUBJECT_ID\",\"HADM_ID\",\"ICUSTAY_ID\",\"period\"])"
   ]
  },
  {
   "cell_type": "code",
   "execution_count": 65,
   "id": "269b033a-bf03-45ea-9be1-e097c3e2cdd1",
   "metadata": {},
   "outputs": [],
   "source": [
    "sonhal=pd.merge(df_grouped,ysutun,left_index=True,right_index=True,how=\"left\").dropna()"
   ]
  },
  {
   "cell_type": "code",
   "execution_count": 66,
   "id": "41481a5e-fa11-44a8-abbf-be033e549c71",
   "metadata": {},
   "outputs": [],
   "source": [
    "y=sonhal.sepsis_basladi_mi"
   ]
  },
  {
   "cell_type": "code",
   "execution_count": 67,
   "id": "fc724120-df5c-40b3-9d1e-9eefcb5a4c6e",
   "metadata": {},
   "outputs": [],
   "source": [
    "sonhal.to_pickle('sonhal_sepsis12hr.pkl')"
   ]
  },
  {
   "cell_type": "markdown",
   "id": "a1156287-f884-4049-86de-ce82611c8922",
   "metadata": {},
   "source": [
    "liste = [19, 20,21,22,23,24,25,45,46,47,48,49,50,51,71,72,73,74,75,76,77,97,98,99,100,101,102,103,123,124,125,126,127,128,129,149,150,151,152,153,154,155]\n",
    "sonhal.drop(sonhal.columns[liste], axis=1, inplace=True)"
   ]
  },
  {
   "cell_type": "markdown",
   "id": "8bd4f452-3693-44b4-a137-f92bb885be2e",
   "metadata": {},
   "source": [
    "pd.set_option('display.max_rows', 10)\n",
    "pd.set_option('display.max_columns', 157)\n",
    "sonhal"
   ]
  },
  {
   "cell_type": "code",
   "execution_count": 68,
   "id": "8164d1fe-4cec-4dd7-bdd0-5f583d65928f",
   "metadata": {},
   "outputs": [],
   "source": [
    "from sklearn.model_selection import train_test_split\n",
    "# Veri split\n",
    "X_train, X_test, y_train, y_test = train_test_split(sonhal.iloc[:,0:114], y, test_size=0.2, random_state=42)"
   ]
  },
  {
   "cell_type": "code",
   "execution_count": 69,
   "id": "a0c64f7f-32f7-4662-baba-f2b85ce9a99b",
   "metadata": {},
   "outputs": [],
   "source": [
    "x0_train=X_train.iloc[:,0:19]\n",
    "x1_train=X_train.iloc[:,19:38]\n",
    "x2_train=X_train.iloc[:,38:57]\n",
    "x3_train=X_train.iloc[:,57:76]\n",
    "x4_train=X_train.iloc[:,76:95]\n",
    "x5_train=X_train.iloc[:,95:114]\n",
    "\n",
    "x0_test=X_test.iloc[:,0:19]\n",
    "x1_test=X_test.iloc[:,19:38]\n",
    "x2_test=X_test.iloc[:,38:57]\n",
    "x3_test=X_test.iloc[:,57:76]\n",
    "x4_test=X_test.iloc[:,76:95]\n",
    "x5_test=X_test.iloc[:,95:114]\n",
    "\n",
    "X_train=np.array([x0_train,x1_train,x2_train,x3_train,x4_train,x5_train])\n",
    "X_test=np.array([x0_test,x1_test,x2_test,x3_test,x4_test,x5_test])"
   ]
  },
  {
   "cell_type": "code",
   "execution_count": 70,
   "id": "bf77b749-48bc-4eab-916d-fa62c580fcf0",
   "metadata": {},
   "outputs": [],
   "source": [
    "X_train = np.transpose(X_train, (1, 0, 2))\n",
    "X_test = np.transpose(X_test, (1, 0, 2))"
   ]
  },
  {
   "cell_type": "code",
   "execution_count": 71,
   "id": "330584de-d44c-428f-8cb0-695719855014",
   "metadata": {},
   "outputs": [],
   "source": [
    "np.save('X_train12hr.npy', X_train)\n",
    "np.save('X_test12hr.npy', X_test)\n",
    "np.save('y_train12hr.npy', y_train)\n",
    "np.save('y_test12hr.npy', y_test)"
   ]
  },
  {
   "cell_type": "markdown",
   "id": "0c68c4f8-0abb-4233-8f76-f563e2333d79",
   "metadata": {},
   "source": [
    "np.save('X_train.npy', X_train)"
   ]
  },
  {
   "cell_type": "markdown",
   "id": "50769c1c-ff80-4c2a-b0f4-5e95b6bf57e1",
   "metadata": {},
   "source": [
    "np.save('X_test.npy', X_test)"
   ]
  },
  {
   "cell_type": "markdown",
   "id": "912df278-0ecc-4b3d-b723-42331db84fae",
   "metadata": {},
   "source": [
    "np.save('y_train.npy', y_train)\n",
    "np.save('y_test.npy', y_test)"
   ]
  },
  {
   "cell_type": "code",
   "execution_count": 51,
   "id": "f8f4068a-4184-43a9-be4d-5d09beb24166",
   "metadata": {},
   "outputs": [],
   "source": [
    "# a = np.load('X_train.npy')"
   ]
  },
  {
   "cell_type": "markdown",
   "id": "091b6e7c-946c-4507-972a-dc6a12b78aa1",
   "metadata": {},
   "source": [
    "sonhal.to_pickle('sonhal.pkl')"
   ]
  },
  {
   "cell_type": "markdown",
   "id": "ca8c2475-934a-4e5e-9256-9a4c232510e3",
   "metadata": {},
   "source": [
    "loaded_dataframe = pd.read_pickle('sonhal.pkl')"
   ]
  },
  {
   "cell_type": "markdown",
   "id": "30168a3b-90ef-49f9-badf-0052a34d22cf",
   "metadata": {},
   "source": [
    "np.save('X_train_sepsis.npy', X_train)\n",
    "np.save('X_test_sepsis.npy', X_test)\n",
    "np.save('y_train_sepsis.npy', y_train)\n",
    "np.save('y_test_sepsis.npy', y_test)\n",
    "sonhal.to_pickle('sonhal_sepsis.pkl')"
   ]
  },
  {
   "cell_type": "code",
   "execution_count": null,
   "id": "b5321b39-794a-4575-a48c-846e711be2c5",
   "metadata": {},
   "outputs": [],
   "source": []
  }
 ],
 "metadata": {
  "kernelspec": {
   "display_name": "Python 3 (ipykernel)",
   "language": "python",
   "name": "python3"
  },
  "language_info": {
   "codemirror_mode": {
    "name": "ipython",
    "version": 3
   },
   "file_extension": ".py",
   "mimetype": "text/x-python",
   "name": "python",
   "nbconvert_exporter": "python",
   "pygments_lexer": "ipython3",
   "version": "3.10.4"
  }
 },
 "nbformat": 4,
 "nbformat_minor": 5
}
